{
 "cells": [
  {
   "cell_type": "code",
   "execution_count": 40,
   "metadata": {},
   "outputs": [],
   "source": [
    "import copy\n",
    "\n",
    "A = []\n",
    "for i in range(11):\n",
    "    row = []\n",
    "    for j in range(11):\n",
    "        if j == 10-i:\n",
    "            row.append((-1)**i)\n",
    "        else:\n",
    "            row.append(0)\n",
    "    A.append(copy.deepcopy(row))\n",
    "    \n",
    "A = matrix(QQ, A)\n",
    "\n",
    "B = []\n",
    "for i in range(11):\n",
    "    row = []\n",
    "    for j in range(11):\n",
    "        if j >= 10-i:\n",
    "            row.append((-1)**i * binomial(i, j-10 + i))\n",
    "            #row.append((-1)**i * (j-10 + i + 1))\n",
    "        else:\n",
    "            row.append(0)\n",
    "    B.append(copy.deepcopy(row))\n",
    "    \n",
    "B = matrix(QQ, B)"
   ]
  },
  {
   "cell_type": "code",
   "execution_count": 41,
   "metadata": {},
   "outputs": [
    {
     "data": {
      "text/plain": [
       "[   0    0    0    0    0    0    0    0    0    0    1]\n",
       "[   0    0    0    0    0    0    0    0    0   -1   -1]\n",
       "[   0    0    0    0    0    0    0    0    1    2    1]\n",
       "[   0    0    0    0    0    0    0   -1   -3   -3   -1]\n",
       "[   0    0    0    0    0    0    1    4    6    4    1]\n",
       "[   0    0    0    0    0   -1   -5  -10  -10   -5   -1]\n",
       "[   0    0    0    0    1    6   15   20   15    6    1]\n",
       "[   0    0    0   -1   -7  -21  -35  -35  -21   -7   -1]\n",
       "[   0    0    1    8   28   56   70   56   28    8    1]\n",
       "[   0   -1   -9  -36  -84 -126 -126  -84  -36   -9   -1]\n",
       "[   1   10   45  120  210  252  210  120   45   10    1]"
      ]
     },
     "execution_count": 41,
     "metadata": {},
     "output_type": "execute_result"
    }
   ],
   "source": [
    " B"
   ]
  },
  {
   "cell_type": "code",
   "execution_count": 42,
   "metadata": {},
   "outputs": [
    {
     "data": {
      "text/plain": [
       "Vector space of degree 11 and dimension 3 over Rational Field\n",
       "Basis matrix:\n",
       "[    1     0     0     0     0     0     0     0     0     0    -1]\n",
       "[    0     1     0 -25/4     0  21/2     0 -25/4     0     1     0]\n",
       "[    0     0     1     0    -3     0     3     0    -1     0     0]"
      ]
     },
     "execution_count": 42,
     "metadata": {},
     "output_type": "execute_result"
    }
   ],
   "source": [
    "part1 = (matrix.identity(11) + A).kernel()\n",
    "part2 = (matrix.identity(11) + B + B**2).kernel()\n",
    "part1.intersection(part2)"
   ]
  },
  {
   "cell_type": "code",
   "execution_count": 61,
   "metadata": {},
   "outputs": [
    {
     "data": {
      "text/plain": [
       "(-1, 0, 0, 0, 0, 0, 0, 0, 0, 0, 1)"
      ]
     },
     "execution_count": 61,
     "metadata": {},
     "output_type": "execute_result"
    }
   ],
   "source": [
    "C = A**(-1) * B\n",
    "\n",
    "kernel_space = (matrix.identity(11) - C).kernel()\n",
    "vec = vector([0, 0, 0, 0, 0, 0, 0, 0, 0, 0, 1])\n",
    "(matrix.identity(11) - A)*vec"
   ]
  }
 ],
 "metadata": {
  "kernelspec": {
   "display_name": "SageMath 9.4",
   "language": "sage",
   "name": "sagemath"
  },
  "language_info": {
   "codemirror_mode": {
    "name": "ipython",
    "version": 3
   },
   "file_extension": ".py",
   "mimetype": "text/x-python",
   "name": "python",
   "nbconvert_exporter": "python",
   "pygments_lexer": "ipython3",
   "version": "3.8.10"
  }
 },
 "nbformat": 4,
 "nbformat_minor": 4
}
